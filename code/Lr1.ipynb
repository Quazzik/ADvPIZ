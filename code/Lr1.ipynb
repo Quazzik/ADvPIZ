{
 "cells": [
  {
   "cell_type": "code",
   "execution_count": 102,
   "id": "4279be3d",
   "metadata": {},
   "outputs": [
    {
     "name": "stdout",
     "output_type": "stream",
     "text": [
      "1\n",
      "1\n",
      "1.0000058 1.0000023 589.4996107007236\n"
     ]
    },
    {
     "data": {
      "text/plain": [
       "[<matplotlib.lines.Line2D at 0x1fec89a9100>]"
      ]
     },
     "execution_count": 102,
     "metadata": {},
     "output_type": "execute_result"
    },
    {
     "data": {
      "image/png": "[encoded data removed]",
      "text/plain": [
       "<Figure size 432x288 with 1 Axes>"
      ]
     },
     "metadata": {
      "needs_background": "light"
     },
     "output_type": "display_data"
    }
   ],
   "source": [
    "import numpy as np\n",
    "import matplotlib.pyplot as plt\n",
    "%matplotlib inline\n",
    "\n",
    "x=[1,2,3,4,5,6,7,8,9,10]\n",
    "x=np.array(x)\n",
    "y=[70,60,50,40,30,7,8,9,10,11]\n",
    "y=np.array(y)\n",
    "\n",
    "plt.scatter(x,y)\n",
    "\n",
    "\n",
    "def model (a,b,x):\n",
    "    return a*x+b\n",
    "\n",
    "def loss_function(a,b,x,y):\n",
    "    num = len(x)\n",
    "    prediction = model(a,b,x)\n",
    "    return (0.5/num)*(np.square(prediction-y)).sum()\n",
    "\n",
    "def optimize(a,b,x,y):\n",
    "    num = len(x)\n",
    "    prediction = model(a,b,x)\n",
    "    da=(0.1/num)*((prediction-y)*x).sum()\n",
    "    db=(0.1/num)*((prediction-y).sum())\n",
    "    a=a-Lr*da\n",
    "    b=b-Lr*db\n",
    "    return a,b\n",
    "\n",
    "def iterate(a,b,x,y,times):\n",
    "    for i in range(times):\n",
    "        a,b = optimize(a,b,x,y)\n",
    "        return(a,b)\n",
    "    \n",
    "#a=np.random.rand(1)\n",
    "a=1\n",
    "print(a)\n",
    "#b=np.random.rand(1)\n",
    "b=1\n",
    "print(b)\n",
    "Lr = 0.000001\n",
    "a,b = iterate(a,b,x,y,100)\n",
    "prediction = model(a,b,x)\n",
    "loss = loss_function(a,b,x,y)\n",
    "print(a,b,loss)\n",
    "plt.scatter(x,y)\n",
    "plt.plot(x,prediction)"
   ]
  },
  {
   "cell_type": "code",
   "execution_count": null,
   "id": "48af0508",
   "metadata": {},
   "outputs": [],
   "source": []
  },
  {
   "cell_type": "code",
   "execution_count": null,
   "id": "fc985882",
   "metadata": {},
   "outputs": [],
   "source": []
  },
  {
   "cell_type": "code",
   "execution_count": null,
   "id": "1a112373",
   "metadata": {},
   "outputs": [],
   "source": []
  }
 ],
 "metadata": {
  "kernelspec": {
   "display_name": "Python 3 (ipykernel)",
   "language": "python",
   "name": "python3"
  },
  "language_info": {
   "codemirror_mode": {
    "name": "ipython",
    "version": 3
   },
   "file_extension": ".py",
   "mimetype": "text/x-python",
   "name": "python",
   "nbconvert_exporter": "python",
   "pygments_lexer": "ipython3",
   "version": "3.9.12"
  }
 },
 "nbformat": 4,
 "nbformat_minor": 5
}
